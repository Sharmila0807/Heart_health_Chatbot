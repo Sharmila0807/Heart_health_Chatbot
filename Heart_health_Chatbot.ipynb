{
  "nbformat": 4,
  "nbformat_minor": 0,
  "metadata": {
    "colab": {
      "provenance": []
    },
    "kernelspec": {
      "name": "python3",
      "display_name": "Python 3"
    },
    "language_info": {
      "name": "python"
    }
  },
  "cells": [
    {
      "cell_type": "markdown",
      "source": [
        "## BioMistral Medical RAG Chatbot Using BioMistral OpenSource LLM\n"
      ],
      "metadata": {
        "id": "BzaeZYVT4TUf"
      }
    },
    {
      "cell_type": "markdown",
      "source": [
        "### Load Google drive"
      ],
      "metadata": {
        "id": "2b8p6-rB4jqQ"
      }
    },
    {
      "cell_type": "code",
      "source": [
        "from google.colab import drive\n",
        "drive.mount('/content/drive')"
      ],
      "metadata": {
        "id": "O7nrMKNh4gkc"
      },
      "execution_count": null,
      "outputs": []
    },
    {
      "cell_type": "code",
      "source": [
        "!pip install langchain sentence-transformers chromadb llama-cpp-python langchain_community pypdf"
      ],
      "metadata": {
        "id": "seuLVOFs6wMm",
        "collapsed": true
      },
      "execution_count": null,
      "outputs": []
    },
    {
      "cell_type": "markdown",
      "source": [
        "### importing libraries\n"
      ],
      "metadata": {
        "id": "wCeWh-gR5KKS"
      }
    },
    {
      "cell_type": "code",
      "source": [
        "from langchain_community.document_loaders import PyPDFDirectoryLoader\n",
        "from langchain.text_splitter import RecursiveCharacterTextSplitter\n",
        "from langchain_community.embeddings import SentenceTransformerEmbeddings\n",
        "from langchain.vectorstores import Chroma\n",
        "from langchain_community.llms import LlamaCpp\n",
        "from langchain.chains import RetrievalQA, LLMChain"
      ],
      "metadata": {
        "id": "eYz79BCh5OVx"
      },
      "execution_count": null,
      "outputs": []
    },
    {
      "cell_type": "markdown",
      "source": [
        "### Importing Documents\n"
      ],
      "metadata": {
        "id": "813hS-P15-S0"
      }
    },
    {
      "cell_type": "code",
      "source": [
        "loader=PyPDFDirectoryLoader(\"/content/drive/MyDrive/BioMistral_RAG_APP/Data\")\n",
        "docs = loader.load()\n"
      ],
      "metadata": {
        "id": "rHw4bmWA6By6"
      },
      "execution_count": null,
      "outputs": []
    },
    {
      "cell_type": "code",
      "source": [
        "len(docs)"
      ],
      "metadata": {
        "id": "-TZdYCON7VCa"
      },
      "execution_count": null,
      "outputs": []
    },
    {
      "cell_type": "markdown",
      "source": [
        "## Chunking\n"
      ],
      "metadata": {
        "id": "UkLT8GsN7fMD"
      }
    },
    {
      "cell_type": "code",
      "source": [
        "text_splitter=RecursiveCharacterTextSplitter(chunk_size=300, chunk_overlap=50)\n",
        "chunks = text_splitter.split_documents(docs)"
      ],
      "metadata": {
        "id": "SmT3qbyU7VOd"
      },
      "execution_count": null,
      "outputs": []
    },
    {
      "cell_type": "code",
      "source": [
        "len(chunks)"
      ],
      "metadata": {
        "id": "0Pl3vNpH7VRV"
      },
      "execution_count": null,
      "outputs": []
    },
    {
      "cell_type": "code",
      "source": [
        "chunks[600]"
      ],
      "metadata": {
        "id": "0g16z_4G7VU2"
      },
      "execution_count": null,
      "outputs": []
    },
    {
      "cell_type": "markdown",
      "source": [
        "## Embedding"
      ],
      "metadata": {
        "id": "GQiyQyZj9PzJ"
      }
    },
    {
      "cell_type": "code",
      "source": [
        "import os\n",
        "os.environ['HUGGINGFACEHUB_API_TOKEN'] = 'REPLACE YOUR ACCESS TOKEN'"
      ],
      "metadata": {
        "id": "WaY-9u6v79nR"
      },
      "execution_count": null,
      "outputs": []
    },
    {
      "cell_type": "code",
      "source": [
        "embeddings = SentenceTransformerEmbeddings(model_name=\"NeuML/pubmedbert-base-embeddings\")"
      ],
      "metadata": {
        "id": "CIVTGy2a90nU"
      },
      "execution_count": null,
      "outputs": []
    },
    {
      "cell_type": "code",
      "source": [],
      "metadata": {
        "id": "q1nElRNkviMA"
      },
      "execution_count": null,
      "outputs": []
    },
    {
      "cell_type": "markdown",
      "source": [
        "## Vector Store Creation"
      ],
      "metadata": {
        "id": "madRQZ2h91As"
      }
    },
    {
      "cell_type": "code",
      "source": [
        "Vectorstore = Chroma.from_documents(chunks, embeddings)"
      ],
      "metadata": {
        "id": "H1ukeM3p94zr"
      },
      "execution_count": null,
      "outputs": []
    },
    {
      "cell_type": "code",
      "source": [
        "query= 'who is at risk of heart disease?'\n",
        "search_results = Vectorstore.similarity_search(query)\n",
        "search_results"
      ],
      "metadata": {
        "id": "8Si-vJbaAJwQ"
      },
      "execution_count": null,
      "outputs": []
    },
    {
      "cell_type": "code",
      "source": [
        "retriever = Vectorstore.as_retriever(search_kwargs={'k':5})\n"
      ],
      "metadata": {
        "id": "vbfxAdJlAk6i"
      },
      "execution_count": null,
      "outputs": []
    },
    {
      "cell_type": "markdown",
      "source": [],
      "metadata": {
        "id": "BhXD4wPuGJL2"
      }
    },
    {
      "cell_type": "code",
      "source": [
        "retriever.get_relevant_documents(query)"
      ],
      "metadata": {
        "id": "6wwge6IaB01p"
      },
      "execution_count": null,
      "outputs": []
    },
    {
      "cell_type": "markdown",
      "source": [],
      "metadata": {
        "id": "mkLPSHYyGXmj"
      }
    },
    {
      "cell_type": "markdown",
      "source": [
        "## LLM Model loading"
      ],
      "metadata": {
        "id": "pjjd4uT0GX2p"
      }
    },
    {
      "cell_type": "code",
      "source": [
        "llm=LlamaCpp(\n",
        "    model_path=\"/content/drive/MyDrive/BioMistral_RAG_APP/BioMistral-7B.Q4_K_M.gguf\",\n",
        "    temperature=0.2,\n",
        "    max_tokens=2048,\n",
        "    top_p=1,\n",
        ")"
      ],
      "metadata": {
        "id": "0PkK-zAvGeLY"
      },
      "execution_count": null,
      "outputs": []
    },
    {
      "cell_type": "code",
      "source": [],
      "metadata": {
        "id": "7UVW9OXlNXLj"
      },
      "execution_count": null,
      "outputs": []
    },
    {
      "cell_type": "markdown",
      "source": [
        "### use LLM retrival query to generate final response"
      ],
      "metadata": {
        "id": "WMYqSCC8NZ0A"
      }
    },
    {
      "cell_type": "code",
      "source": [
        "template =\"\"\"\n",
        "<|context|>\n",
        "You are an medical assistant that follows the instruction and generate the accurate response based on the query and the context provide.\n",
        "Please be truthful and give direct answers.\n",
        "</s>\n",
        "<|user|>\n",
        "\n",
        "{query}\n",
        "</s>\n",
        "<|assistant|>\n",
        "\"\"\""
      ],
      "metadata": {
        "id": "rh0z3vBHNhS9"
      },
      "execution_count": null,
      "outputs": []
    },
    {
      "cell_type": "code",
      "source": [
        "from langchain.schema.runnable import RunnablePassthrough\n",
        "from langchain.schema.output_parser import StrOutputParser\n",
        "from langchain.prompts import ChatPromptTemplate\n",
        "prompt = ChatPromptTemplate.from_template(template)"
      ],
      "metadata": {
        "id": "OZpPELFyOxE8"
      },
      "execution_count": null,
      "outputs": []
    },
    {
      "cell_type": "code",
      "source": [
        "rag_chain=(\n",
        "    {\"context\": retriever, \"query\": RunnablePassthrough()}\n",
        "    | prompt\n",
        "    | llm\n",
        "    | StrOutputParser()\n",
        "    )"
      ],
      "metadata": {
        "id": "MCqSATQDPgfV"
      },
      "execution_count": null,
      "outputs": []
    },
    {
      "cell_type": "code",
      "source": [
        "response=rag_chain.invoke(query)"
      ],
      "metadata": {
        "id": "h9ZUbrboP1Gc"
      },
      "execution_count": null,
      "outputs": []
    },
    {
      "cell_type": "code",
      "source": [
        "response"
      ],
      "metadata": {
        "id": "LlW7ouW6P7_I"
      },
      "execution_count": null,
      "outputs": []
    },
    {
      "cell_type": "code",
      "source": [
        "from ast import Continue\n",
        "import sys\n",
        "while True:\n",
        "  user_input = input(f\"Input query:\")\n",
        "  if user_input == 'exit':\n",
        "    print(\"Exiting the program.\")\n",
        "    sys.exit()\n",
        "  if user_input==\"\":\n",
        "    continue\n",
        "  result =  rag_chain.invoke(user_input)\n",
        "  print(\"Answer:\", result)\n"
      ],
      "metadata": {
        "id": "HD-52IFxP-To"
      },
      "execution_count": null,
      "outputs": []
    }
  ]
}